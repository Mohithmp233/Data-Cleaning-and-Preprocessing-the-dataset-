import pandas as pd

# Load dataset

file_path = 'netflix_titles.csv'
df = pd.read_csv(file_path)
df.head()

#Initial Data Overview

df.info()
df.isnull().sum()

#Data Cleaning Steps

# Make a copy
df_clean = df.copy()

# Step 1: Standardize column names
df_clean.columns = df_clean.columns.str.strip().str.lower().str.replace(' ', '_')

# Step 2: Handle missing values
for col in ['director', 'cast', 'country', 'rating', 'duration']:
    df_clean[col] = df_clean[col].fillna('Unknown')

# Handle date_added
df_clean['date_added'] = pd.to_datetime(df_clean['date_added'], errors='coerce')
df_clean['date_added'] = df_clean['date_added'].fillna(pd.Timestamp('1900-01-01'))

# Step 3: Remove duplicates
df_clean = df_clean.drop_duplicates()

# Step 4: Ensure data types
df_clean['release_year'] = df_clean['release_year'].astype(int)

# Step 5: Standardize duration format
df_clean['duration'] = df_clean['duration'].str.lower().str.replace('seasons', 'season')

# Preview cleaned data
df_clean.head()
